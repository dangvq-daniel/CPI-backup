{
 "cells": [
  {
   "cell_type": "code",
   "execution_count": 39,
   "id": "2d3ad071",
   "metadata": {},
   "outputs": [],
   "source": [
    "import pandas as pd\n",
    "import numpy as np\n",
    "import zipfile\n",
    "import io\n",
    "import requests\n",
    "import os"
   ]
  },
  {
   "cell_type": "code",
   "execution_count": 40,
   "id": "57dfc6e3",
   "metadata": {},
   "outputs": [
    {
     "name": "stdout",
     "output_type": "stream",
     "text": [
      "Zip file already exists at d:\\Code\\projects\\CPI\\data\\18100004-eng.zip\n",
      "CSV already exists at d:\\Code\\projects\\CPI\\data\\18100004-eng.csv\n"
     ]
    }
   ],
   "source": [
    "# Create data folder\n",
    "os.makedirs(\"data\", exist_ok=True)\n",
    "\n",
    "# Paths\n",
    "local_zip_path = \"data/18100004-eng.zip\"\n",
    "csv_path = \"data/18100004-eng.csv\"\n",
    "\n",
    "# Download zip if not already on disk\n",
    "if not os.path.exists(local_zip_path):\n",
    "    print(\"Downloading zip file...\")\n",
    "    url = \"https://www150.statcan.gc.ca/n1/tbl/csv/18100004-eng.zip\"\n",
    "    r = requests.get(url)\n",
    "    with open(local_zip_path, \"wb\") as f:\n",
    "        f.write(r.content)\n",
    "    print(f\"Saved zip to {os.path.abspath(local_zip_path)}\")\n",
    "else:\n",
    "    print(f\"Zip file already exists at {os.path.abspath(local_zip_path)}\")\n",
    "\n",
    "# Extract CSV if not already extracted\n",
    "if not os.path.exists(csv_path):\n",
    "    print(\"Extracting CSV from zip...\")\n",
    "    with zipfile.ZipFile(local_zip_path, \"r\") as z:\n",
    "        # Assume first file inside zip is the CSV\n",
    "        filename = z.namelist()[0]\n",
    "        z.extract(filename, \"data\")\n",
    "        # Rename to consistent csv_path\n",
    "        os.rename(f\"data/{filename}\", csv_path)\n",
    "    print(f\"CSV saved to {os.path.abspath(csv_path)}\")\n",
    "else:\n",
    "    print(f\"CSV already exists at {os.path.abspath(csv_path)}\")\n"
   ]
  },
  {
   "cell_type": "code",
   "execution_count": 41,
   "id": "042aa1d4",
   "metadata": {},
   "outputs": [
    {
     "name": "stderr",
     "output_type": "stream",
     "text": [
      "C:\\Users\\qdang\\AppData\\Local\\Temp\\ipykernel_9064\\285962557.py:1: DtypeWarning: Columns (11,13) have mixed types. Specify dtype option on import or set low_memory=False.\n",
      "  df = pd.read_csv(csv_path)\n"
     ]
    },
    {
     "name": "stdout",
     "output_type": "stream",
     "text": [
      "DataFrame loaded successfully\n"
     ]
    }
   ],
   "source": [
    "df = pd.read_csv(csv_path)\n",
    "print(\"DataFrame loaded successfully\")"
   ]
  },
  {
   "cell_type": "code",
   "execution_count": null,
   "id": "651e4963",
   "metadata": {},
   "outputs": [],
   "source": [
    "# replace placeholder symbols with NaN\n",
    "df.replace(['..', 'NaN', 'n/a', '', ' '], np.nan, inplace=True)\n",
    "\n",
    "# convert REF_DATE to datetime\n",
    "df['REF_DATE'] = pd.to_datetime(df['REF_DATE'], errors='coerce')\n",
    "\n",
    "# convert VALUE to numeric\n",
    "df['VALUE'] = pd.to_numeric(df['VALUE'], errors='coerce')\n"
   ]
  },
  {
   "cell_type": "code",
   "execution_count": 43,
   "id": "610877d9",
   "metadata": {},
   "outputs": [
    {
     "name": "stdout",
     "output_type": "stream",
     "text": [
      "(1128853, 15)\n"
     ]
    }
   ],
   "source": [
    "print(df.shape)"
   ]
  },
  {
   "cell_type": "code",
   "execution_count": 52,
   "id": "d2cadd5e",
   "metadata": {},
   "outputs": [],
   "source": [
    "import hashlib\n",
    "def encode_col(name: str) -> str:\n",
    "    hash_suffix = hashlib.md5(name.encode()).hexdigest()[:8]\n",
    "    safe_name = ''.join(c if c.isalnum() else '_' for c in name)\n",
    "    return (safe_name[:40] + '_' + hash_suffix).lower()"
   ]
  },
  {
   "cell_type": "code",
   "execution_count": 60,
   "id": "29a546b4",
   "metadata": {},
   "outputs": [],
   "source": [
    "# Step 1: Encode product names\n",
    "df_long = df.copy()\n",
    "df_long['Encoded_Product'] = df_long['Products and product groups'].apply(encode_col)\n",
    "\n",
    "# Step 2: Sort for pct_change calculations\n",
    "df_long = df_long.sort_values(['GEO', 'Encoded_Product', 'REF_DATE'])\n",
    "\n",
    "# Step 3: Compute MoM and YoY per product+geo\n",
    "df_long['MoM'] = df_long.groupby(['GEO', 'Encoded_Product'])['VALUE'].pct_change() * 100\n",
    "df_long['YoY'] = df_long.groupby(['GEO', 'Encoded_Product'])['VALUE'].pct_change(12) * 100\n",
    "\n",
    "# Optional: forward/backward fill missing\n",
    "df_long.fillna(method='ffill', inplace=True)\n",
    "df_long.fillna(method='bfill', inplace=True)"
   ]
  },
  {
   "cell_type": "code",
   "execution_count": 61,
   "id": "0f7d07ac",
   "metadata": {},
   "outputs": [
    {
     "name": "stdout",
     "output_type": "stream",
     "text": [
      "(1128853, 18)\n"
     ]
    }
   ],
   "source": [
    "print(df_long.shape)"
   ]
  },
  {
   "cell_type": "code",
   "execution_count": 62,
   "id": "ae775275",
   "metadata": {},
   "outputs": [],
   "source": [
    "# Step 4: Keep only the numeric columns for melting\n",
    "id_cols = ['REF_DATE', 'GEO', 'UOM', 'Encoded_Product', 'Products and product groups']\n",
    "value_cols = ['VALUE', 'MoM', 'YoY']\n",
    "\n",
    "df_long_tidy = df_long.melt(\n",
    "    id_vars=id_cols,\n",
    "    value_vars=value_cols,\n",
    "    var_name=\"Metric\",\n",
    "    value_name=\"Value\"\n",
    ")\n",
    "\n",
    "# Step 5: Final column order\n",
    "df_long_tidy = df_long_tidy[['REF_DATE', 'GEO', 'UOM', 'Products and product groups', 'Encoded_Product', 'Metric', 'Value']]\n"
   ]
  },
  {
   "cell_type": "code",
   "execution_count": 63,
   "id": "5a29d99a",
   "metadata": {},
   "outputs": [
    {
     "name": "stdout",
     "output_type": "stream",
     "text": [
      "(1128853, 18)\n"
     ]
    }
   ],
   "source": [
    "print(df_long.shape)"
   ]
  },
  {
   "cell_type": "code",
   "execution_count": 64,
   "id": "105f83d6",
   "metadata": {},
   "outputs": [
    {
     "name": "stdout",
     "output_type": "stream",
     "text": [
      "        REF_DATE      GEO        DGUID Products and product groups       UOM  \\\n",
      "40772 1978-09-01  Alberta  2016A000248         Alcoholic beverages  2002=100   \n",
      "42094 1978-10-01  Alberta  2016A000248         Alcoholic beverages  2002=100   \n",
      "43420 1978-11-01  Alberta  2016A000248         Alcoholic beverages  2002=100   \n",
      "44746 1978-12-01  Alberta  2016A000248         Alcoholic beverages  2002=100   \n",
      "46072 1979-01-01  Alberta  2016A000248         Alcoholic beverages  2002=100   \n",
      "\n",
      "       UOM_ID SCALAR_FACTOR  SCALAR_ID     VECTOR  COORDINATE  VALUE STATUS  \\\n",
      "40772      17         units          0  v41692435      23.257   25.9      E   \n",
      "42094      17         units          0  v41692435      23.257   25.9      E   \n",
      "43420      17         units          0  v41692435      23.257   26.0      E   \n",
      "44746      17         units          0  v41692435      23.257   26.0      E   \n",
      "46072      17         units          0  v41692435      23.257   26.0      E   \n",
      "\n",
      "       SYMBOL TERMINATED  DECIMALS               Encoded_Product     MoM  \\\n",
      "40772     NaN          t         1  alcoholic_beverages_4d2daa76  0.0000   \n",
      "42094     NaN          t         1  alcoholic_beverages_4d2daa76  0.0000   \n",
      "43420     NaN          t         1  alcoholic_beverages_4d2daa76  0.3861   \n",
      "44746     NaN          t         1  alcoholic_beverages_4d2daa76  0.0000   \n",
      "46072     NaN          t         1  alcoholic_beverages_4d2daa76  0.0000   \n",
      "\n",
      "            YoY  \n",
      "40772  5.405405  \n",
      "42094  5.405405  \n",
      "43420  5.405405  \n",
      "44746  5.405405  \n",
      "46072  5.405405  \n"
     ]
    }
   ],
   "source": [
    "print(df_long.head())"
   ]
  },
  {
   "cell_type": "code",
   "execution_count": 65,
   "id": "66cfe4e9",
   "metadata": {},
   "outputs": [
    {
     "name": "stdout",
     "output_type": "stream",
     "text": [
      "Loaded CPI long data into Postgres!\n"
     ]
    }
   ],
   "source": [
    "from sqlalchemy import create_engine, text\n",
    "\n",
    "user = \"postgres\"\n",
    "host = \"db.rtewftvldajjhqjbwwfx.supabase.co\"\n",
    "port = \"5432\"\n",
    "database = \"postgres\"\n",
    "password_path = './password'\n",
    "table_name = \"cpi_long\"\n",
    "\n",
    "with open(password_path, 'r') as f:\n",
    "    password = f.readline()\n",
    "\n",
    "db_url = f\"postgresql://{user}:{password}@{host}:{port}/{database}\"\n",
    "engine = create_engine(db_url, pool_pre_ping=True)\n",
    "# Keep long format\n",
    "df_long.to_sql('cpi_long', engine, if_exists='replace', index=False)\n",
    "print(\"Loaded CPI long data into Postgres!\")"
   ]
  }
 ],
 "metadata": {
  "kernelspec": {
   "display_name": "Python 3",
   "language": "python",
   "name": "python3"
  },
  "language_info": {
   "codemirror_mode": {
    "name": "ipython",
    "version": 3
   },
   "file_extension": ".py",
   "mimetype": "text/x-python",
   "name": "python",
   "nbconvert_exporter": "python",
   "pygments_lexer": "ipython3",
   "version": "3.11.0"
  }
 },
 "nbformat": 4,
 "nbformat_minor": 5
}
